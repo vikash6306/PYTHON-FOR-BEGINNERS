{
  "nbformat": 4,
  "nbformat_minor": 0,
  "metadata": {
    "colab": {
      "name": "Python Tutorial.ipynb",
      "provenance": []
    },
    "kernelspec": {
      "name": "python3",
      "display_name": "Python 3"
    },
    "language_info": {
      "name": "python"
    }
  },
  "cells": [
    {
      "cell_type": "code",
      "metadata": {
        "colab": {
          "base_uri": "https://localhost:8080/"
        },
        "id": "jC-CNV5kOiTr",
        "outputId": "9666f1ee-b147-4693-d81e-a7fbdf5a9b81"
      },
      "source": [
        "a=10.112\n",
        "b=2345\n",
        "a+b"
      ],
      "execution_count": null,
      "outputs": [
        {
          "output_type": "execute_result",
          "data": {
            "text/plain": [
              "2355.112"
            ]
          },
          "metadata": {
            "tags": []
          },
          "execution_count": 6
        }
      ]
    },
    {
      "cell_type": "code",
      "metadata": {
        "colab": {
          "base_uri": "https://localhost:8080/"
        },
        "id": "osqQ-wYOOzwT",
        "outputId": "6bf250e0-3d20-42c6-82d5-deb71fc5976c"
      },
      "source": [
        "a=input()"
      ],
      "execution_count": null,
      "outputs": [
        {
          "output_type": "stream",
          "text": [
            "Palash\n"
          ],
          "name": "stdout"
        }
      ]
    },
    {
      "cell_type": "code",
      "metadata": {
        "colab": {
          "base_uri": "https://localhost:8080/"
        },
        "id": "Bc3QsvukO8VL",
        "outputId": "8f29008d-4c1d-4b34-fd2b-64fcfb2f055b"
      },
      "source": [
        "print(a)"
      ],
      "execution_count": null,
      "outputs": [
        {
          "output_type": "stream",
          "text": [
            "10.112\n"
          ],
          "name": "stdout"
        }
      ]
    },
    {
      "cell_type": "code",
      "metadata": {
        "colab": {
          "base_uri": "https://localhost:8080/",
          "height": 35
        },
        "id": "qUu7W3e0O_4W",
        "outputId": "7f5a1089-bbc9-41aa-8a8c-9093c7bebc11"
      },
      "source": [
        "x=\"Palash\" \n",
        "y=123\n",
        "x+str(y)"
      ],
      "execution_count": null,
      "outputs": [
        {
          "output_type": "execute_result",
          "data": {
            "application/vnd.google.colaboratory.intrinsic+json": {
              "type": "string"
            },
            "text/plain": [
              "'Palash123'"
            ]
          },
          "metadata": {
            "tags": []
          },
          "execution_count": 8
        }
      ]
    },
    {
      "cell_type": "code",
      "metadata": {
        "colab": {
          "base_uri": "https://localhost:8080/"
        },
        "id": "hd9srVXCPedH",
        "outputId": "954cd44a-d337-4bf7-f4d9-38ebb5486fd3"
      },
      "source": [
        "a=10\n",
        "if(a==10):\n",
        "  print(\"YES\")\n",
        "  print(\"aisdn\",end=\" \")\n",
        "  print(\"ads\")\n",
        "else:\n",
        "  print(\"103022\")"
      ],
      "execution_count": null,
      "outputs": [
        {
          "output_type": "stream",
          "text": [
            "YES**aisdn ads\n"
          ],
          "name": "stdout"
        }
      ]
    },
    {
      "cell_type": "code",
      "metadata": {
        "id": "6yJr8a8jQcb4"
      },
      "source": [
        "if(a==10){\n",
        "    print(\"infe\")\n",
        "    else{\n",
        "        if(a<10){\n",
        "            print(\"fsfvv\")\n",
        "        }\n",
        "         else{\n",
        "             print(\"fafa\")\n",
        "         }\n",
        "    }\n",
        "}"
      ],
      "execution_count": null,
      "outputs": []
    },
    {
      "cell_type": "code",
      "metadata": {
        "id": "EtEoW6rqQqLl"
      },
      "source": [
        "if(a==10):\n",
        "  print(\"infe\")\n",
        "elif(a<10):\n",
        "  print(\"ainf\")\n",
        "elif(a>10):\n",
        "  print(\"Afa\")\n",
        "else:\n",
        "  print(\"afaf\")"
      ],
      "execution_count": null,
      "outputs": []
    },
    {
      "cell_type": "code",
      "metadata": {
        "id": "nqRaYUX_Q9tn"
      },
      "source": [
        "for(int i=10;i>0;i--){\n",
        "    \n",
        "}"
      ],
      "execution_count": null,
      "outputs": []
    },
    {
      "cell_type": "code",
      "metadata": {
        "colab": {
          "base_uri": "https://localhost:8080/"
        },
        "id": "edgU1XplRDDk",
        "outputId": "8810b57d-bf85-453d-9f50-593725ec9b71"
      },
      "source": [
        "n=10\n",
        "for i in range(n):\n",
        "  print(i**4)"
      ],
      "execution_count": null,
      "outputs": [
        {
          "output_type": "stream",
          "text": [
            "0\n",
            "1\n",
            "16\n",
            "81\n",
            "256\n",
            "625\n",
            "1296\n",
            "2401\n",
            "4096\n",
            "6561\n"
          ],
          "name": "stdout"
        }
      ]
    },
    {
      "cell_type": "code",
      "metadata": {
        "colab": {
          "base_uri": "https://localhost:8080/"
        },
        "id": "oCZg6BUMRe0q",
        "outputId": "b11ad29e-3946-4abd-ad88-a042d6213847"
      },
      "source": [
        "n=input()  #string\n",
        "print(type(n)) "
      ],
      "execution_count": null,
      "outputs": [
        {
          "output_type": "stream",
          "text": [
            "9\n",
            "<class 'str'>\n"
          ],
          "name": "stdout"
        }
      ]
    },
    {
      "cell_type": "code",
      "metadata": {
        "colab": {
          "base_uri": "https://localhost:8080/"
        },
        "id": "Wo3KtVuDSu_9",
        "outputId": "5f9bc64b-304e-43b9-c633-3c7a2ae6afcb"
      },
      "source": [
        "n=int(input())\n",
        "print(n+10)"
      ],
      "execution_count": null,
      "outputs": [
        {
          "output_type": "stream",
          "text": [
            "301\n",
            "311\n"
          ],
          "name": "stdout"
        }
      ]
    },
    {
      "cell_type": "code",
      "metadata": {
        "colab": {
          "base_uri": "https://localhost:8080/"
        },
        "id": "KPQ4gZJyT7AG",
        "outputId": "97892355-3e2f-45b7-9da7-44ef988a8e52"
      },
      "source": [
        "a,b,c,d=map(float,input().split())"
      ],
      "execution_count": null,
      "outputs": [
        {
          "output_type": "stream",
          "text": [
            "10 20 30.10 239\n"
          ],
          "name": "stdout"
        }
      ]
    },
    {
      "cell_type": "code",
      "metadata": {
        "colab": {
          "base_uri": "https://localhost:8080/"
        },
        "id": "L8gC0t1lUE9c",
        "outputId": "b2f8eeff-b326-40a8-8a5f-838c9bd9b9f6"
      },
      "source": [
        "print(a,b,c,d)"
      ],
      "execution_count": null,
      "outputs": [
        {
          "output_type": "stream",
          "text": [
            "10.0 20.0 30.1 239.0\n"
          ],
          "name": "stdout"
        }
      ]
    },
    {
      "cell_type": "code",
      "metadata": {
        "id": "KdUST-XiUlxQ"
      },
      "source": [
        "#Array\n",
        "a=[10,20,30,40]"
      ],
      "execution_count": null,
      "outputs": []
    },
    {
      "cell_type": "code",
      "metadata": {
        "colab": {
          "base_uri": "https://localhost:8080/"
        },
        "id": "4ynWM3V8U4rE",
        "outputId": "da26440d-4fa0-4082-c98c-ec19fa255b13"
      },
      "source": [
        "a=list(map(int,input().split()))"
      ],
      "execution_count": null,
      "outputs": [
        {
          "output_type": "stream",
          "text": [
            "10 20 30 50 20 0101 120\n"
          ],
          "name": "stdout"
        }
      ]
    },
    {
      "cell_type": "code",
      "metadata": {
        "colab": {
          "base_uri": "https://localhost:8080/"
        },
        "id": "ZXPoZbXBVBIA",
        "outputId": "1db5d252-a044-4d31-8599-d1640da6a9fa"
      },
      "source": [
        "print(a)"
      ],
      "execution_count": null,
      "outputs": [
        {
          "output_type": "stream",
          "text": [
            "[10, 20, 30, 50, 20, 101, 120]\n"
          ],
          "name": "stdout"
        }
      ]
    },
    {
      "cell_type": "code",
      "metadata": {
        "id": "ePSnar6GVLqY"
      },
      "source": [
        "a.append(int(40))"
      ],
      "execution_count": null,
      "outputs": []
    },
    {
      "cell_type": "code",
      "metadata": {
        "colab": {
          "base_uri": "https://localhost:8080/"
        },
        "id": "9tcjZUOAVTqD",
        "outputId": "044c54e2-384d-4d0d-9691-c36e148d74f2"
      },
      "source": [
        "a"
      ],
      "execution_count": null,
      "outputs": [
        {
          "output_type": "execute_result",
          "data": {
            "text/plain": [
              "[10, 20, 30, 50, 20, 101, 120, 40]"
            ]
          },
          "metadata": {
            "tags": []
          },
          "execution_count": 42
        }
      ]
    },
    {
      "cell_type": "code",
      "metadata": {
        "colab": {
          "base_uri": "https://localhost:8080/"
        },
        "id": "ZFvDmjVIVVyE",
        "outputId": "2b6aaf28-2089-4ea8-d9b0-86184172b1ff"
      },
      "source": [
        "print(len(a))"
      ],
      "execution_count": null,
      "outputs": [
        {
          "output_type": "stream",
          "text": [
            "8\n"
          ],
          "name": "stdout"
        }
      ]
    },
    {
      "cell_type": "code",
      "metadata": {
        "id": "XsOx7uYRVdFM"
      },
      "source": [
        "a.sort(reverse=True)  "
      ],
      "execution_count": null,
      "outputs": []
    },
    {
      "cell_type": "code",
      "metadata": {
        "colab": {
          "base_uri": "https://localhost:8080/"
        },
        "id": "IRDaIxNAWWF3",
        "outputId": "e639148d-eac2-4efa-fcda-f1d76ff4e06f"
      },
      "source": [
        "a"
      ],
      "execution_count": null,
      "outputs": [
        {
          "output_type": "execute_result",
          "data": {
            "text/plain": [
              "[120, 101, 50, 40, 30, 20, 20, 10]"
            ]
          },
          "metadata": {
            "tags": []
          },
          "execution_count": 55
        }
      ]
    },
    {
      "cell_type": "code",
      "metadata": {
        "id": "iNwC7uPBWjzA"
      },
      "source": [
        "a=a[::-1]"
      ],
      "execution_count": null,
      "outputs": []
    },
    {
      "cell_type": "code",
      "metadata": {
        "colab": {
          "base_uri": "https://localhost:8080/"
        },
        "id": "37fdhbKYWwYw",
        "outputId": "eb4de5c0-734e-4355-a7cc-2af3421766e3"
      },
      "source": [
        "print(a)"
      ],
      "execution_count": null,
      "outputs": [
        {
          "output_type": "stream",
          "text": [
            "[10, 20, 20, 30, 40, 50, 101, 120]\n"
          ],
          "name": "stdout"
        }
      ]
    },
    {
      "cell_type": "code",
      "metadata": {
        "id": "XZ1Fok5jW0Ct"
      },
      "source": [
        "a.insert(0,1121)"
      ],
      "execution_count": null,
      "outputs": []
    },
    {
      "cell_type": "code",
      "metadata": {
        "colab": {
          "base_uri": "https://localhost:8080/"
        },
        "id": "YFchRF5bXM2_",
        "outputId": "49cca4c1-902f-436b-9b4f-854a69e520c0"
      },
      "source": [
        "a"
      ],
      "execution_count": null,
      "outputs": [
        {
          "output_type": "execute_result",
          "data": {
            "text/plain": [
              "[1121, 10, 20, 20, 30, 40, 50, 101, 120]"
            ]
          },
          "metadata": {
            "tags": []
          },
          "execution_count": 59
        }
      ]
    },
    {
      "cell_type": "code",
      "metadata": {
        "colab": {
          "base_uri": "https://localhost:8080/"
        },
        "id": "igdwznUPXWDD",
        "outputId": "679d8c33-2a7c-400d-c042-b4fc79e480fa"
      },
      "source": [
        "a.pop()"
      ],
      "execution_count": null,
      "outputs": [
        {
          "output_type": "execute_result",
          "data": {
            "text/plain": [
              "120"
            ]
          },
          "metadata": {
            "tags": []
          },
          "execution_count": 60
        }
      ]
    },
    {
      "cell_type": "code",
      "metadata": {
        "colab": {
          "base_uri": "https://localhost:8080/"
        },
        "id": "CHtK2hq9XYN4",
        "outputId": "3e7237ad-e37e-4179-cec5-2c8f92f2ef65"
      },
      "source": [
        "a"
      ],
      "execution_count": null,
      "outputs": [
        {
          "output_type": "execute_result",
          "data": {
            "text/plain": [
              "[1121, 10, 20, 20, 30, 40, 50, 101]"
            ]
          },
          "metadata": {
            "tags": []
          },
          "execution_count": 61
        }
      ]
    },
    {
      "cell_type": "code",
      "metadata": {
        "colab": {
          "base_uri": "https://localhost:8080/"
        },
        "id": "kCHdYDKJXbW4",
        "outputId": "4b1e5ac7-4a77-488e-bd89-b0234944fb97"
      },
      "source": [
        "a.pop(3)\n",
        "print(*a)"
      ],
      "execution_count": null,
      "outputs": [
        {
          "output_type": "stream",
          "text": [
            "1121 10 20 30 40 50 101\n"
          ],
          "name": "stdout"
        }
      ]
    },
    {
      "cell_type": "code",
      "metadata": {
        "colab": {
          "base_uri": "https://localhost:8080/"
        },
        "id": "a7zo30IBXrAj",
        "outputId": "369a9c67-569c-4d93-ec46-1d6aa637ee48"
      },
      "source": [
        "a.remove(20)\n",
        "print(a)"
      ],
      "execution_count": null,
      "outputs": [
        {
          "output_type": "stream",
          "text": [
            "[1121, 10, 30, 40, 50, 101]\n"
          ],
          "name": "stdout"
        }
      ]
    },
    {
      "cell_type": "code",
      "metadata": {
        "id": "u-STUlUnYCOf"
      },
      "source": [
        "a.reverse()"
      ],
      "execution_count": null,
      "outputs": []
    },
    {
      "cell_type": "code",
      "metadata": {
        "colab": {
          "base_uri": "https://localhost:8080/"
        },
        "id": "7KmFjAWWYGmK",
        "outputId": "4f490357-90c0-4ede-f493-d9a53696b961"
      },
      "source": [
        "len(a)"
      ],
      "execution_count": null,
      "outputs": [
        {
          "output_type": "execute_result",
          "data": {
            "text/plain": [
              "6"
            ]
          },
          "metadata": {
            "tags": []
          },
          "execution_count": 66
        }
      ]
    },
    {
      "cell_type": "code",
      "metadata": {
        "colab": {
          "base_uri": "https://localhost:8080/"
        },
        "id": "34txuz6jYoF4",
        "outputId": "a8479536-d2ee-4a88-e5b7-e53f864d24c6"
      },
      "source": [
        "sum(a)"
      ],
      "execution_count": null,
      "outputs": [
        {
          "output_type": "execute_result",
          "data": {
            "text/plain": [
              "1352"
            ]
          },
          "metadata": {
            "tags": []
          },
          "execution_count": 68
        }
      ]
    },
    {
      "cell_type": "code",
      "metadata": {
        "colab": {
          "base_uri": "https://localhost:8080/"
        },
        "id": "TGxhw9YaYwoC",
        "outputId": "9a99289f-8150-4be9-e6ee-fee9a25a2799"
      },
      "source": [
        "#String\n",
        "a=input()"
      ],
      "execution_count": null,
      "outputs": [
        {
          "output_type": "stream",
          "text": [
            "Palash\n"
          ],
          "name": "stdout"
        }
      ]
    },
    {
      "cell_type": "code",
      "metadata": {
        "colab": {
          "base_uri": "https://localhost:8080/"
        },
        "id": "R_ifnF-Lacnp",
        "outputId": "d6976d3a-6347-4975-d370-74015dccb51c"
      },
      "source": [
        "print(a)"
      ],
      "execution_count": null,
      "outputs": [
        {
          "output_type": "stream",
          "text": [
            "Palash\n"
          ],
          "name": "stdout"
        }
      ]
    },
    {
      "cell_type": "code",
      "metadata": {
        "colab": {
          "base_uri": "https://localhost:8080/"
        },
        "id": "AhR0EWaoae9X",
        "outputId": "09f73120-5aa7-4233-fca2-2f3974bb09d8"
      },
      "source": [
        "len(a)"
      ],
      "execution_count": null,
      "outputs": [
        {
          "output_type": "execute_result",
          "data": {
            "text/plain": [
              "6"
            ]
          },
          "metadata": {
            "tags": []
          },
          "execution_count": 71
        }
      ]
    },
    {
      "cell_type": "code",
      "metadata": {
        "id": "8l9lveuQarVN"
      },
      "source": [
        "x=a+\" Bajpai\""
      ],
      "execution_count": null,
      "outputs": []
    },
    {
      "cell_type": "code",
      "metadata": {
        "colab": {
          "base_uri": "https://localhost:8080/",
          "height": 35
        },
        "id": "Yjl_VHcOaxLR",
        "outputId": "e9dfb78a-b90f-47ab-8219-69f815b52cde"
      },
      "source": [
        "x"
      ],
      "execution_count": null,
      "outputs": [
        {
          "output_type": "execute_result",
          "data": {
            "application/vnd.google.colaboratory.intrinsic+json": {
              "type": "string"
            },
            "text/plain": [
              "'Palash Bajpai'"
            ]
          },
          "metadata": {
            "tags": []
          },
          "execution_count": 73
        }
      ]
    },
    {
      "cell_type": "markdown",
      "metadata": {
        "id": "A33iB4FBqh3g"
      },
      "source": [
        "https://www.w3resource.com/python-exercises/python-basic-exercises.php\n"
      ]
    }
  ]
}